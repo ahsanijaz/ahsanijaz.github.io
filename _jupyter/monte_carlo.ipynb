{
 "cells": [
  {
   "cell_type": "markdown",
   "metadata": {},
   "source": [
    "# Monte Carlo Simulation\n",
    "\n",
    "Monte Carlo methods are computational algorithms relying on repeated random sampling to solve a variety of optimization, integration and sampling problems. More often than not, one stumbles across an intractable integral only solvable through numericel integration. The field of Physics and Mathematics also rely heavily on Monte Carlo Simulations. Moreover, these simulations provide random amount of error, reduciable by expanding computational resources. Thus, an error budget can be provided based on the resources.\n",
    "In machine learning, some methods are quite difficult to solve and approximate answers is all that we can get. Therefore, at times, it is needed to use Monte Carlo approximations over deterministic methods. In this post, I'll attempt at solving some simple integrations by using Monte Carlo simulations. Future posts will expand on this to discuss Importance Sampling and Markov Chain Monte Carlo Methods."
   ]
  },
  {
   "cell_type": "markdown",
   "metadata": {},
   "source": [
    "## Monte Carlo Simulation using low-level TensorFlow\n",
    "\n",
    "In this post, I'd use low level TensorFlow framework to solve simple integration problems. Hopefully, by the end of this post, you'd develop an understanding of how these simulations are used to solve complex problems. Let's start simple and follow the logic between different portions of the program."
   ]
  },
  {
   "cell_type": "code",
   "execution_count": 1,
   "metadata": {},
   "outputs": [],
   "source": [
    "import tensorflow as tf"
   ]
  },
  {
   "cell_type": "markdown",
   "metadata": {},
   "source": [
    "### Defining problem\n",
    "As an example problem, let's find the solution of the following equation:\n",
    "\n",
    "$$ \\int_{0}^{2}{x^{2}}dx $$\n",
    "\n",
    "This can easily be integrated to obtain:\n",
    "\n",
    "$$ \\tfrac{x^{3}}{3}\\big|_0^2 = 2.667 $$\n",
    "\n",
    "Now if want to solve it using Monte Carlo simulation, we have to generate random samples within some bounded region and see how many of those fall within our region of interest i.e. lie under the line drawn by $y= x^2$. "
   ]
  },
  {
   "cell_type": "markdown",
   "metadata": {},
   "source": [
    "### Generating samples in TensorFlow\n",
    "In other words, we have to generate random uniform numbers with x-coordinate between 0 and 2 (since integration is from 0 to 2) and y-coordinate from 0 to 4 (as the $x^2$ function gives the y value of 4 at x = 2). To ease understanding, I'll execute the TensorFlow code in Eager mode and wrap it around a function in the end. Here, I draw 10000 samples from uniform distribution in TensorFlow as follows:"
   ]
  },
  {
   "cell_type": "code",
   "execution_count": 2,
   "metadata": {},
   "outputs": [],
   "source": [
    "tf.enable_eager_execution()\n",
    "x = tf.random_uniform((10000,1),0,2)\n",
    "y = tf.random_uniform((10000,1),0,4)"
   ]
  },
  {
   "cell_type": "markdown",
   "metadata": {},
   "source": [
    "### Finding region of interest\n",
    "Once we have our random samples drawn from uniform distribution, we have to find the number of (x,y) samples that fall within $x^2$ function. This can easily be done as:"
   ]
  },
  {
   "cell_type": "code",
   "execution_count": 3,
   "metadata": {},
   "outputs": [],
   "source": [
    "sample_in_region = y<x**2"
   ]
  },
  {
   "cell_type": "markdown",
   "metadata": {},
   "source": [
    "Finally, we can find the total count of these samples as:"
   ]
  },
  {
   "cell_type": "code",
   "execution_count": 5,
   "metadata": {},
   "outputs": [
    {
     "name": "stdout",
     "output_type": "stream",
     "text": [
      "tf.Tensor(3282.0, shape=(), dtype=float32)\n"
     ]
    }
   ],
   "source": [
    "count = tf.reduce_sum(tf.cast(sample_in_region,tf.float32))\n",
    "print(count)"
   ]
  },
  {
   "cell_type": "markdown",
   "metadata": {},
   "source": [
    "### Computing the area\n",
    "Now, in the example above, we know that the total samples we have generated are 10,000 where as those lying under the $x^2$ function are given in the variable _count_. The range in which uniform samples were drawn has the area of 8 ( x-range * y-range = (2-0)*(4-0) = 8).\n",
    "Therefore, the ratio of area of function and range is equal to the ratio of _count_ and total samples. This is given as:\n",
    "$$\\frac{\\textit{area}}{\\textit{range_area}} = \\frac{count}{\\textit{n_of_samples}}$$\n",
    "\n",
    "Programmatically, the area can be computed as:"
   ]
  },
  {
   "cell_type": "code",
   "execution_count": 6,
   "metadata": {},
   "outputs": [
    {
     "name": "stdout",
     "output_type": "stream",
     "text": [
      "tf.Tensor(2.6256, shape=(), dtype=float32)\n"
     ]
    }
   ],
   "source": [
    "area = count/10000*8\n",
    "print(area)"
   ]
  },
  {
   "cell_type": "markdown",
   "metadata": {},
   "source": [
    "As you can see, the area is approximately equal to the one computed deterministically."
   ]
  },
  {
   "cell_type": "markdown",
   "metadata": {},
   "source": [
    "## Using TensorFlow session:\n",
    "\n",
    "What follows is the vanilla TensorFlow mode of carrying these computations along with some code refactoring."
   ]
  },
  {
   "cell_type": "code",
   "execution_count": 10,
   "metadata": {},
   "outputs": [],
   "source": [
    "def compute_integral(n_samples):\n",
    "#    shape = tf.shape(rand_samples)\n",
    "    x = tf.random_uniform((n_samples,1),0,2)\n",
    "    y = tf.random_uniform((n_samples,1),0,4)\n",
    "    c_in_region = y<x**2\n",
    "    count = tf.reduce_sum(tf.cast(c_in_region,tf.int16))\n",
    "    return count*8/n_samples"
   ]
  },
  {
   "cell_type": "code",
   "execution_count": 11,
   "metadata": {},
   "outputs": [
    {
     "name": "stdout",
     "output_type": "stream",
     "text": [
      "2.6599998\n"
     ]
    }
   ],
   "source": [
    "with tf.Session() as sess:\n",
    "    result = sess.run(compute_integral(10000))\n",
    "    print(result)"
   ]
  }
 ],
 "metadata": {
  "kernelspec": {
   "display_name": "Python 3",
   "language": "python",
   "name": "python3"
  },
  "language_info": {
   "codemirror_mode": {
    "name": "ipython",
    "version": 3
   },
   "file_extension": ".py",
   "mimetype": "text/x-python",
   "name": "python",
   "nbconvert_exporter": "python",
   "pygments_lexer": "ipython3",
   "version": "3.6.6"
  }
 },
 "nbformat": 4,
 "nbformat_minor": 2
}
